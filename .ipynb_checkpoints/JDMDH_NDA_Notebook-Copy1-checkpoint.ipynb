{
 "cells": [
  {
   "cell_type": "code",
   "execution_count": 1,
   "id": "42537aac",
   "metadata": {},
   "outputs": [
    {
     "name": "stdout",
     "output_type": "stream",
     "text": [
      "WARNING:tensorflow:SavedModel saved prior to TF 2.5 detected when loading Keras model. Please ensure that you are saving the model with model.save() or tf.keras.models.save_model(), *NOT* tf.saved_model.save(). To confirm, there should be a file named \"keras_metadata.pb\" in the SavedModel directory.\n"
     ]
    }
   ],
   "source": [
    "import os\n",
    "import cv2\n",
    "import numpy as np\n",
    "import tensorflow as tf\n",
    "from tensorflow.keras import Model\n",
    "from tensorflow.keras import layers\n",
    "from tensorflow.keras.models import load_model\n",
    "\n",
    "def Inference(image_path):\n",
    "    # Load images\n",
    "    images = []\n",
    "    X = []\n",
    "    for (root, dirs, files) in os.walk(image_path, topdown=True):\n",
    "        for fname in files:\n",
    "            images.append(str(os.path.join(root, fname)))\n",
    "    for img in images:\n",
    "        im = cv2.imread(img)\n",
    "    # Reshape Image for Tensorflow as array\n",
    "        res = np.array(im)\n",
    "        X.append(res)\n",
    "    x = np.array(X)\n",
    "    # Run inference using chosen model\n",
    "    preds = infer.predict(x, verbose=0)\n",
    "    return preds\n",
    "\n",
    "# Load ResNet inference model\n",
    "infer = load_model(\"Models/CXE_AL-ALL\") # Use CXE model trained on AL-ALL v1\n",
    "#infer = load_model(\"E:/tested/CXE_AL-ALL_V2\") # Use CXE model trained on AL-ALL v1"
   ]
  },
  {
   "cell_type": "code",
   "execution_count": 2,
   "id": "1f816792",
   "metadata": {},
   "outputs": [
    {
     "name": "stdout",
     "output_type": "stream",
     "text": [
      "21200\n"
     ]
    }
   ],
   "source": [
    "output = Inference('E:/alpub_v2/images/Alpha')\n",
    "print(len(output))"
   ]
  },
  {
   "cell_type": "code",
   "execution_count": 3,
   "id": "d99853d3",
   "metadata": {},
   "outputs": [
    {
     "data": {
      "text/plain": [
       "array([0, 0, 0, ..., 0, 0, 0], dtype=int64)"
      ]
     },
     "execution_count": 3,
     "metadata": {},
     "output_type": "execute_result"
    }
   ],
   "source": [
    "classes = np.argmax(output, axis=1)\n",
    "classes"
   ]
  },
  {
   "cell_type": "code",
   "execution_count": 4,
   "id": "d015da63",
   "metadata": {},
   "outputs": [
    {
     "name": "stdout",
     "output_type": "stream",
     "text": [
      "Accuracy:  0.9299528301886792\n",
      "Percent Incorrect:  0.07004716981132075\n"
     ]
    }
   ],
   "source": [
    "right = 0\n",
    "wrong = 0\n",
    "for i in range(len(classes)):\n",
    "    if classes[i] == 0:\n",
    "        right += 1\n",
    "    else:\n",
    "        wrong += 1\n",
    "print(\"Accuracy: \", right/len(classes))\n",
    "print(\"Percent Incorrect: \", wrong/len(classes))"
   ]
  },
  {
   "cell_type": "code",
   "execution_count": null,
   "id": "89a4082c",
   "metadata": {},
   "outputs": [],
   "source": []
  }
 ],
 "metadata": {
  "kernelspec": {
   "display_name": "Python 3 (ipykernel)",
   "language": "python",
   "name": "python3"
  },
  "language_info": {
   "codemirror_mode": {
    "name": "ipython",
    "version": 3
   },
   "file_extension": ".py",
   "mimetype": "text/x-python",
   "name": "python",
   "nbconvert_exporter": "python",
   "pygments_lexer": "ipython3",
   "version": "3.9.12"
  }
 },
 "nbformat": 4,
 "nbformat_minor": 5
}
